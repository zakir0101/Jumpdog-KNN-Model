{
 "cells": [
  {
   "cell_type": "markdown",
   "metadata": {},
   "source": [
    "### Install library"
   ]
  },
  {
   "cell_type": "code",
   "execution_count": 1,
   "metadata": {},
   "outputs": [],
   "source": [
    "# %pip install numpy tensorflow matplotlib tensorflowjs"
   ]
  },
  {
   "cell_type": "code",
   "execution_count": null,
   "metadata": {},
   "outputs": [],
   "source": []
  },
  {
   "cell_type": "markdown",
   "metadata": {},
   "source": [
    "### Import Data"
   ]
  },
  {
   "cell_type": "code",
   "execution_count": 2,
   "metadata": {},
   "outputs": [],
   "source": [
    "import numpy as np\n",
    "import tensorflow as tf\n",
    "from tensorflow import keras\n",
    "from keras import layers, regularizers\n",
    "import matplotlib.pyplot as plt\n",
    "import os\n",
    "import random\n"
   ]
  },
  {
   "cell_type": "markdown",
   "metadata": {},
   "source": [
    "### Reading and Preparing Training Data"
   ]
  },
  {
   "cell_type": "code",
   "execution_count": null,
   "metadata": {},
   "outputs": [],
   "source": [
    "def read_training_data ( data_dir = )"
   ]
  },
  {
   "cell_type": "code",
   "execution_count": null,
   "metadata": {},
   "outputs": [],
   "source": [
    "\n",
    "# Set a seed for reproducibility\n",
    "seed = 42\n",
    "np.random.seed(seed)\n",
    "tf.random.set_seed(seed)\n",
    "random.seed(seed)\n",
    "\n",
    "# Assume the training data is in 'data.npy' (replace with your actual file)\n",
    "# Each sample is a tuple: (board_state, label)\n",
    "# board_state: 5x5 numpy array\n",
    "# label: scalar value between -100 and 100\n",
    "\n",
    "# Load the data\n",
    "data = np.load('data.npy', allow_pickle=True)\n",
    "\n",
    "# Shuffle the data\n",
    "np.random.shuffle(data)\n",
    "\n",
    "# Split features and labels\n",
    "X = np.array([sample[0] for sample in data])\n",
    "y = np.array([sample[1] for sample in data])\n",
    "\n",
    "# Normalize labels to -1 to 1 for numerical stability during training\n",
    "y = y / 100.0\n",
    "\n",
    "# Reshape X to add channel dimension\n",
    "X = X.reshape(-1, 5, 5, 1)\n",
    "\n",
    "# Split into training and validation sets (80% training, 20% validation)\n",
    "split_index = int(0.8 * len(X))\n",
    "X_train, X_val = X[:split_index], X[split_index:]\n",
    "y_train, y_val = y[:split_index], y[split_index:]\n",
    "\n",
    "# Save the training and validation data for later reuse\n",
    "np.save('X_train.npy', X_train)\n",
    "np.save('y_train.npy', y_train)\n",
    "np.save('X_val.npy', X_val)\n",
    "np.save('y_val.npy', y_val)\n"
   ]
  },
  {
   "cell_type": "markdown",
   "metadata": {},
   "source": [
    "## Create CNN Model"
   ]
  },
  {
   "cell_type": "code",
   "execution_count": null,
   "metadata": {},
   "outputs": [],
   "source": [
    "\n",
    "# Build the CNN model\n",
    "model = keras.Sequential()\n",
    "\n",
    "# Input Layer and Convolutional Layer 1\n",
    "model.add(layers.Conv2D(\n",
    "    filters=32,                # Use 32 filters\n",
    "    kernel_size=(3, 3),\n",
    "    padding='same',\n",
    "    activation='relu',\n",
    "    input_shape=(5, 5, 1)\n",
    "))\n",
    "\n",
    "# Convolutional Layer 2\n",
    "model.add(layers.Conv2D(\n",
    "    filters=64,                # Use 64 filters\n",
    "    kernel_size=(3, 3),\n",
    "    padding='same',\n",
    "    activation='relu'\n",
    "))\n",
    "\n",
    "# Flatten Layer\n",
    "model.add(layers.Flatten())\n",
    "\n",
    "# Dense Layer 1\n",
    "model.add(layers.Dense(\n",
    "    units=128,\n",
    "    activation='relu',\n",
    "    # kernel_regularizer=regularizers.l2(0.001)  # Optional L2 Regularization\n",
    "))\n",
    "\n",
    "# Optional Dropout Layer for Regularization\n",
    "# model.add(layers.Dropout(0.5))\n",
    "\n",
    "# Dense Layer 2\n",
    "model.add(layers.Dense(\n",
    "    units=64,\n",
    "    activation='relu',\n",
    "    # kernel_regularizer=regularizers.l2(0.001)  # Optional L2 Regularization\n",
    "))\n",
    "\n",
    "# Optional Dropout Layer for Regularization\n",
    "# model.add(layers.Dropout(0.5))\n",
    "\n",
    "# Output Layer\n",
    "model.add(layers.Dense(\n",
    "    units=1,\n",
    "    activation='linear'\n",
    "))\n",
    "\n",
    "# Compile the model\n",
    "model.compile(\n",
    "    optimizer=keras.optimizers.Adam(learning_rate=0.001),  # Default learning rate\n",
    "    loss='mean_squared_error',\n",
    "    metrics=['mae']\n",
    ")\n",
    "\n",
    "# Optional Learning Rate Scheduler\n",
    "# lr_scheduler = keras.callbacks.ReduceLROnPlateau(\n",
    "#     monitor='val_loss',\n",
    "#     factor=0.1,\n",
    "#     patience=5,\n",
    "#     verbose=1\n",
    "# )\n",
    "\n",
    "# Optional Early Stopping\n",
    "# early_stopping = keras.callbacks.EarlyStopping(\n",
    "#     monitor='val_loss',\n",
    "#     patience=5,\n",
    "#     restore_best_weights=True,\n",
    "#     verbose=1\n",
    "# )\n",
    "\n",
    "# Prepare for live plotting of loss function\n",
    "class LossHistory(keras.callbacks.Callback):\n",
    "    def on_train_begin(self, logs={}):\n",
    "        self.losses = []\n",
    "        self.val_losses = []\n",
    "        plt.ion()\n",
    "        self.fig, self.ax = plt.subplots()\n",
    "        self.line1, = self.ax.plot([], [], 'b-', label='Training Loss')\n",
    "        self.line2, = self.ax.plot([], [], 'r-', label='Validation Loss')\n",
    "        self.ax.legend()\n",
    "        plt.xlabel('Epoch')\n",
    "        plt.ylabel('Loss')\n",
    "\n",
    "    def on_epoch_end(self, epoch, logs={}):\n",
    "        self.losses.append(logs.get('loss'))\n",
    "        self.val_losses.append(logs.get('val_loss'))\n",
    "        self.line1.set_data(range(len(self.losses)), self.losses)\n",
    "        self.line2.set_data(range(len(self.val_losses)), self.val_losses)\n",
    "        self.ax.relim()\n",
    "        self.ax.autoscale_view()\n",
    "        plt.draw()\n",
    "        plt.pause(0.01)\n",
    "\n",
    "loss_history = LossHistory()\n"
   ]
  },
  {
   "cell_type": "markdown",
   "metadata": {},
   "source": [
    "## Train the Model  "
   ]
  },
  {
   "cell_type": "code",
   "execution_count": null,
   "metadata": {},
   "outputs": [],
   "source": [
    "\n",
    "# Training the model\n",
    "history = model.fit(\n",
    "    X_train,\n",
    "    y_train,\n",
    "    epochs=50,                         # Train for 50 epochs\n",
    "    batch_size=32,                     # Use batch size of 32\n",
    "    validation_data=(X_val, y_val),\n",
    "    callbacks=[\n",
    "        loss_history,\n",
    "        # lr_scheduler,                # Optional Learning Rate Scheduler\n",
    "        # early_stopping               # Optional Early Stopping\n",
    "    ]\n",
    ")\n"
   ]
  },
  {
   "cell_type": "markdown",
   "metadata": {},
   "source": [
    "## Validate the Model"
   ]
  },
  {
   "cell_type": "code",
   "execution_count": null,
   "metadata": {},
   "outputs": [],
   "source": [
    "# After training, validate the model\n",
    "val_loss, val_mae = model.evaluate(X_val, y_val, verbose=1)\n",
    "print(f'Validation Loss: {val_loss}')\n",
    "print(f'Validation MAE: {val_mae}')\n"
   ]
  },
  {
   "cell_type": "markdown",
   "metadata": {},
   "source": [
    "## Save and Convert the Model , and the Eval"
   ]
  },
  {
   "cell_type": "code",
   "execution_count": null,
   "metadata": {},
   "outputs": [],
   "source": [
    "\n",
    "# Save the model in TensorFlow.js format\n",
    "# First, save the model in the TensorFlow SavedModel format\n",
    "model.save('saved_model/my_model')\n",
    "\n",
    "# Convert the model to TensorFlow.js format\n",
    "# Requires the TensorFlow.js converter to be installed: pip install tensorflowjs\n",
    "os.system('tensorflowjs_converter --input_format=tf_saved_model --output_format=tfjs_graph_model --signature_name=serving_default --saved_model_tags=serve saved_model/my_model tfjs_model')\n",
    "\n",
    "# Save the training history plot\n",
    "plt.ioff()\n",
    "plt.savefig('training_history.png')\n",
    "\n",
    "# Save evaluation data\n",
    "with open('evaluation.txt', 'w') as f:\n",
    "    f.write(f'Validation Loss: {val_loss}\\n')\n",
    "    f.write(f'Validation MAE: {val_mae}\\n')\n"
   ]
  },
  {
   "cell_type": "markdown",
   "metadata": {},
   "source": [
    "# Comments for Computational Efficiency\n",
    "To reduce computational load, you can:\n",
    "- Reduce the number of filters in Conv2D layers from 32 and 64 to 16 and 32 respectively.\n",
    "- Reduce the number of units in dense layers from 128 and 64 to 64 and 32 respectively.\n",
    "- Remove one of the convolutional or dense layers if acceptable.\n"
   ]
  },
  {
   "cell_type": "markdown",
   "metadata": {},
   "source": [
    "### Example modifications for computational efficiency:\n",
    "( *Note: Reducing model complexity may impact accuracy* )"
   ]
  },
  {
   "cell_type": "code",
   "execution_count": null,
   "metadata": {},
   "outputs": [],
   "source": [
    "# Example modifications for computational efficiency:\n",
    "# model.add(layers.Conv2D(\n",
    "#     filters=16,  # Reduced from 32 to 16\n",
    "#     kernel_size=(3, 3),\n",
    "#     padding='same',\n",
    "#     activation='relu',\n",
    "#     input_shape=(5, 5, 1)\n",
    "# ))\n",
    "# ...\n",
    "# model.add(layers.Dense(\n",
    "#     units=64,   # Reduced from 128 to 64\n",
    "#     activation='relu',\n",
    "# ))"
   ]
  },
  {
   "cell_type": "markdown",
   "metadata": {},
   "source": [
    "\n"
   ]
  }
 ],
 "metadata": {
  "kernelspec": {
   "display_name": "machine_learning",
   "language": "python",
   "name": "python3"
  },
  "language_info": {
   "codemirror_mode": {
    "name": "ipython",
    "version": 3
   },
   "file_extension": ".py",
   "mimetype": "text/x-python",
   "name": "python",
   "nbconvert_exporter": "python",
   "pygments_lexer": "ipython3",
   "version": "3.12.7"
  }
 },
 "nbformat": 4,
 "nbformat_minor": 2
}
